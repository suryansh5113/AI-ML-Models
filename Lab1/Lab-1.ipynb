{
 "cells": [
  {
   "cell_type": "markdown",
   "id": "6cfdcd00",
   "metadata": {},
   "source": [
    "# Part-A"
   ]
  },
  {
   "cell_type": "markdown",
   "id": "10698da0",
   "metadata": {},
   "source": [
    "## Question-1"
   ]
  },
  {
   "cell_type": "code",
   "execution_count": 2,
   "id": "d10e2026",
   "metadata": {},
   "outputs": [
    {
     "name": "stdout",
     "output_type": "stream",
     "text": [
      "NumPy Version:  1.23.5\n",
      "1D Array:  [1 2 3 4 5]\n",
      "2D Array:\n",
      " [[1 2 3]\n",
      " [4 5 6]]\n"
     ]
    }
   ],
   "source": [
    "import numpy as np\n",
    "\n",
    "# a) Check the version of NumPy and create 1D, 2D arrays.\n",
    "print(\"NumPy Version: \", np.__version__)\n",
    "\n",
    "# Create 1D array\n",
    "array_1d=np.array([1, 2, 3, 4, 5])\n",
    "print(\"1D Array: \", array_1d)\n",
    "\n",
    "# Create 2D array\n",
    "array_2d=np.array([[1, 2, 3], [4, 5, 6]])\n",
    "print(\"2D Array:\\n\", array_2d)"
   ]
  },
  {
   "cell_type": "code",
   "execution_count": 3,
   "id": "8f3da613",
   "metadata": {},
   "outputs": [
    {
     "name": "stdout",
     "output_type": "stream",
     "text": [
      "Data Type of 1D array:  int64\n",
      "Dimension of 1D array:  1\n",
      "Data Type of 2D array:  int64\n",
      "Dimension of 2D array:  2\n"
     ]
    }
   ],
   "source": [
    "# b) Check the data type and dimension of created arrays\n",
    "print(\"Data Type of 1D array: \", array_1d.dtype)\n",
    "print(\"Dimension of 1D array: \", array_1d.ndim)\n",
    "print(\"Data Type of 2D array: \", array_2d.dtype)\n",
    "print(\"Dimension of 2D array: \", array_2d.ndim)"
   ]
  },
  {
   "cell_type": "code",
   "execution_count": 4,
   "id": "7b7e066b",
   "metadata": {},
   "outputs": [
    {
     "name": "stdout",
     "output_type": "stream",
     "text": [
      "Size of each element in 1D array:  8\n",
      "Size of each element in 2D array:  8\n"
     ]
    }
   ],
   "source": [
    "# c) Find the size of each element in the arrays.\n",
    "print(\"Size of each element in 1D array: \", array_1d.itemsize)\n",
    "print(\"Size of each element in 2D array: \", array_2d.itemsize)"
   ]
  },
  {
   "cell_type": "code",
   "execution_count": 5,
   "id": "25669fc1",
   "metadata": {},
   "outputs": [
    {
     "name": "stdout",
     "output_type": "stream",
     "text": [
      "Number of Rows and Columns in 2D array:  (2, 3)\n"
     ]
    }
   ],
   "source": [
    "# d) Find the number of rows and columns of 2D array.\n",
    "print(\"Number of Rows and Columns in 2D array: \", array_2d.shape)"
   ]
  },
  {
   "cell_type": "code",
   "execution_count": 6,
   "id": "9923aa9f",
   "metadata": {},
   "outputs": [
    {
     "name": "stdout",
     "output_type": "stream",
     "text": [
      "Reshaped Array: \n",
      " [[1 2]\n",
      " [3 4]\n",
      " [5 6]]\n"
     ]
    }
   ],
   "source": [
    "# e) Reshape the array from shape (2, 3) to (3, 2).\n",
    "reshaped_array=array_2d.reshape((3, 2))\n",
    "print(\"Reshaped Array: \\n\", reshaped_array)"
   ]
  },
  {
   "cell_type": "markdown",
   "id": "34e19182",
   "metadata": {},
   "source": [
    "## Question-2"
   ]
  },
  {
   "cell_type": "code",
   "execution_count": 7,
   "id": "d01fecd8",
   "metadata": {},
   "outputs": [
    {
     "name": "stdout",
     "output_type": "stream",
     "text": [
      "Sliced 1D Array:  [6 3 9]\n"
     ]
    }
   ],
   "source": [
    "# a) Slice the 1D array to get [6, 3, 9]\n",
    "array_1d_to_slice=np.array([4, 5, 6, 3, 9, 7])\n",
    "sliced_array_1d=array_1d_to_slice[2:5]\n",
    "print(\"Sliced 1D Array: \", sliced_array_1d)"
   ]
  },
  {
   "cell_type": "code",
   "execution_count": 8,
   "id": "ed7f87ea",
   "metadata": {},
   "outputs": [
    {
     "name": "stdout",
     "output_type": "stream",
     "text": [
      "Sliced 2D Array: \n",
      " [[1 2]]\n"
     ]
    }
   ],
   "source": [
    "# b) Slice the 2D array to get [[1, 2]].\n",
    "array_2d_to_slice=np.array([[1, 2, 3], [4, 5, 6]])\n",
    "sliced_array_2d=array_2d_to_slice[0:1, 0:2]\n",
    "print(\"Sliced 2D Array: \\n\", sliced_array_2d)"
   ]
  },
  {
   "cell_type": "markdown",
   "id": "76363cec",
   "metadata": {},
   "source": [
    "## Question-3"
   ]
  },
  {
   "cell_type": "code",
   "execution_count": 9,
   "id": "6909b82e",
   "metadata": {},
   "outputs": [
    {
     "name": "stdout",
     "output_type": "stream",
     "text": [
      "Concatenated 1D Array:  [4 5 6 7 3 4 1]\n"
     ]
    }
   ],
   "source": [
    "# a) Concatenate two 1D arrays [4,5,6,7] and [3,4,1].\n",
    "array_1=np.array([4, 5, 6, 7])\n",
    "array_2=np.array([3, 4, 1])\n",
    "concatenated_array_1d=np.concatenate((array_1, array_2))\n",
    "print(\"Concatenated 1D Array: \", concatenated_array_1d)"
   ]
  },
  {
   "cell_type": "code",
   "execution_count": 10,
   "id": "9a464205",
   "metadata": {},
   "outputs": [
    {
     "name": "stdout",
     "output_type": "stream",
     "text": [
      "Concatenated 2D Array (row-by-row): \n",
      " [[1 2]\n",
      " [3 4]\n",
      " [5 6]\n",
      " [7 8]]\n"
     ]
    }
   ],
   "source": [
    "# b) Perform concatenation of two 2D arrays in row-by-row manner.\n",
    "array_2d_1=np.array([[1, 2], [3, 4]])\n",
    "array_2d_2=np.array([[5, 6], [7, 8]])\n",
    "concatenated_array_2d=np.concatenate((array_2d_1, array_2d_2), axis=0)\n",
    "print(\"Concatenated 2D Array (row-by-row): \\n\", concatenated_array_2d)"
   ]
  },
  {
   "cell_type": "code",
   "execution_count": 11,
   "id": "0e4657df",
   "metadata": {},
   "outputs": [
    {
     "name": "stdout",
     "output_type": "stream",
     "text": [
      "Split 1D Array into 3 sub-arrays:  [array([4, 5]), array([6, 3]), array([9])]\n"
     ]
    }
   ],
   "source": [
    "# c) Split the array [4, 5, 6, 3, 9] into 3 sub-arrays.\n",
    "array_to_split_1d=np.array([4, 5, 6, 3, 9])\n",
    "split_array_1d=np.array_split(array_to_split_1d, 3)\n",
    "print(\"Split 1D Array into 3 sub-arrays: \", split_array_1d)"
   ]
  },
  {
   "cell_type": "code",
   "execution_count": 12,
   "id": "d67069fd",
   "metadata": {},
   "outputs": [
    {
     "name": "stdout",
     "output_type": "stream",
     "text": [
      "Split 2D Array into 3 sub-arrays: \n",
      " [array([[1, 2, 3],\n",
      "       [4, 5, 6]]), array([[7, 8, 9]]), array([[10, 11, 12]])]\n"
     ]
    }
   ],
   "source": [
    "# d) Split the 2D array [[1, 2, 3], [4, 5, 6], [7, 8, 9], [10, 11, 12]] into 3 sub-arrays.\n",
    "array_to_split_2d=np.array([[1, 2, 3], [4, 5, 6], [7, 8, 9], [10, 11, 12]])\n",
    "split_array_2d=np.array_split(array_to_split_2d, 3)\n",
    "print(\"Split 2D Array into 3 sub-arrays: \\n\", split_array_2d)"
   ]
  },
  {
   "cell_type": "markdown",
   "id": "9ab695da",
   "metadata": {},
   "source": [
    "## Question-4"
   ]
  },
  {
   "cell_type": "code",
   "execution_count": 13,
   "id": "9cc59a89",
   "metadata": {},
   "outputs": [
    {
     "name": "stdout",
     "output_type": "stream",
     "text": [
      "Indices of element 4 in the array:  [3 5 6]\n"
     ]
    }
   ],
   "source": [
    "# a) Given an array [1, 2, 3, 4, 5, 4, 4]. Find the index of element 4.\n",
    "array_a=np.array([1, 2, 3, 4, 5, 4, 4])\n",
    "indices_of_4=np.where(array_a==4)\n",
    "print(\"Indices of element 4 in the array: \", indices_of_4[0])"
   ]
  },
  {
   "cell_type": "code",
   "execution_count": 14,
   "id": "72449f56",
   "metadata": {},
   "outputs": [
    {
     "name": "stdout",
     "output_type": "stream",
     "text": [
      "Index of element 5 in the 2D array:  [1 1]\n"
     ]
    }
   ],
   "source": [
    "# b) Given a 2D array [[1, 2, 3], [4, 5, 6], [7, 8, 9], [10, 11, 12]]. Find the index of element 5.\n",
    "array_b=np.array([[1, 2, 3], [4, 5, 6], [7, 8, 9], [10, 11, 12]])\n",
    "index_of_5=np.argwhere(array_b==5)\n",
    "print(\"Index of element 5 in the 2D array: \", index_of_5[0])"
   ]
  },
  {
   "cell_type": "code",
   "execution_count": 15,
   "id": "1eae1d1f",
   "metadata": {},
   "outputs": [
    {
     "name": "stdout",
     "output_type": "stream",
     "text": [
      "Indices of odd elements:  [0 2 4 6]\n",
      "Indices of even elements:  [1 3 5 7]\n"
     ]
    }
   ],
   "source": [
    "# c) Given an array [1, 2, 3, 4, 5, 6, 7, 8], find out the indices of odd elements and even elements.\n",
    "array_c=np.array([1, 2, 3, 4, 5, 6, 7, 8])\n",
    "indices_of_odd=np.where(array_c % 2 != 0)\n",
    "indices_of_even=np.where(array_c % 2 == 0)\n",
    "print(\"Indices of odd elements: \", indices_of_odd[0])\n",
    "print(\"Indices of even elements: \", indices_of_even[0])"
   ]
  },
  {
   "cell_type": "markdown",
   "id": "79583be6",
   "metadata": {},
   "source": [
    "## Question-5"
   ]
  },
  {
   "cell_type": "code",
   "execution_count": 16,
   "id": "050fae7b",
   "metadata": {},
   "outputs": [
    {
     "name": "stdout",
     "output_type": "stream",
     "text": [
      "Array sorted in ascending order:  [ 1  2  5  6  7  9 10 36]\n",
      "Array sorted in descending order:  [36 10  9  7  6  5  2  1]\n"
     ]
    }
   ],
   "source": [
    "# a) Sort the elements of given 1D array [6, 5, 1, 2, 9, 10, 36, 7] in ascending and descending order.\n",
    "array_d=np.array([6, 5, 1, 2, 9, 10, 36, 7])\n",
    "sorted_ascending=np.sort(array_d)\n",
    "sorted_descending=np.sort(array_d)[::-1]\n",
    "print(\"Array sorted in ascending order: \", sorted_ascending)\n",
    "print(\"Array sorted in descending order: \", sorted_descending)"
   ]
  },
  {
   "cell_type": "code",
   "execution_count": 17,
   "id": "d293a6e9",
   "metadata": {},
   "outputs": [
    {
     "name": "stdout",
     "output_type": "stream",
     "text": [
      "2D array sorted in ascending order: \n",
      " [[-2  3  5]\n",
      " [ 6  7  7]\n",
      " [ 8 10 40]]\n",
      "2D array sorted in descending order: \n",
      " [[40 10  8]\n",
      " [ 7  7  6]\n",
      " [ 5  3 -2]]\n"
     ]
    }
   ],
   "source": [
    "# b) Sort the elements of given 2D array [[5, 3, 7], [8, 10, 6], [40, -2, 7]] in ascending and descending order.\n",
    "array_e=np.array([[5, 3, 7], [8, 10, 6], [40, -2, 7]])\n",
    "sorted_2d_ascending=np.sort(array_e, axis=None).reshape(array_e.shape)\n",
    "sorted_2d_descending=np.sort(array_e, axis=None)[::-1].reshape(array_e.shape)\n",
    "print(\"2D array sorted in ascending order: \\n\", sorted_2d_ascending)\n",
    "print(\"2D array sorted in descending order: \\n\", sorted_2d_descending)"
   ]
  },
  {
   "cell_type": "markdown",
   "id": "ef6f35d9",
   "metadata": {},
   "source": [
    "## Question-6"
   ]
  },
  {
   "cell_type": "code",
   "execution_count": 18,
   "id": "60cfcd74",
   "metadata": {},
   "outputs": [
    {
     "name": "stdout",
     "output_type": "stream",
     "text": [
      "1-D array with 6 random integers from 0 to 20:  [ 3 17 10 19 12  4]\n"
     ]
    }
   ],
   "source": [
    "# a) Generate a 1-D array containing 6 random integers from 0 to 20.\n",
    "random_integers_1d=np.random.randint(0, 21, size=6)\n",
    "print(\"1-D array with 6 random integers from 0 to 20: \", random_integers_1d)"
   ]
  },
  {
   "cell_type": "code",
   "execution_count": 19,
   "id": "80bc6960",
   "metadata": {},
   "outputs": [
    {
     "name": "stdout",
     "output_type": "stream",
     "text": [
      "1-D array with 5 random floats:  [0.82740425 0.00992098 0.58402567 0.63902303 0.78183292]\n"
     ]
    }
   ],
   "source": [
    "# b) Generate a 1-D array containing 5 random floats.\n",
    "random_floats_1d=np.random.random(size=5)\n",
    "print(\"1-D array with 5 random floats: \", random_floats_1d)"
   ]
  },
  {
   "cell_type": "code",
   "execution_count": 20,
   "id": "5d7a163e",
   "metadata": {},
   "outputs": [
    {
     "name": "stdout",
     "output_type": "stream",
     "text": [
      "2-D array with 3 rows, each containing 5 random integers from 0 to 50:\n",
      " [[37 47 23 16 25]\n",
      " [48 23  4 16 13]\n",
      " [ 7  8  7 15 16]]\n"
     ]
    }
   ],
   "source": [
    "# c) Generate a 2-D array with 3 rows, each row containing 5 random integers from 0 to 50.\n",
    "random_integers_2d=np.random.randint(0, 51, size=(3, 5))\n",
    "print(\"2-D array with 3 rows, each containing 5 random integers from 0 to 50: \\n\", random_integers_2d)"
   ]
  },
  {
   "cell_type": "code",
   "execution_count": 21,
   "id": "f8e8d7c9",
   "metadata": {},
   "outputs": [
    {
     "name": "stdout",
     "output_type": "stream",
     "text": [
      "2-D array with 3 rows, each containing 5 random numbers:\n",
      " [[0.2051029  0.66389233 0.83171903 0.81220833 0.66530171]\n",
      " [0.21750151 0.78387687 0.6674785  0.01624814 0.70263807]\n",
      " [0.02311226 0.9053633  0.24512777 0.19863136 0.78795234]]\n"
     ]
    }
   ],
   "source": [
    "# d) Generate a 2-D array with 3 rows, each row containing 5 random numbers.\n",
    "random_floats_2d=np.random.random(size=(3, 5))\n",
    "print(\"2-D array with 3 rows, each containing 5 random numbers: \\n\", random_floats_2d)"
   ]
  },
  {
   "cell_type": "code",
   "execution_count": 22,
   "id": "206ea73e",
   "metadata": {},
   "outputs": [
    {
     "name": "stdout",
     "output_type": "stream",
     "text": [
      "Shuffled 1-D array:  [10  2  5  1  7  6  9 36]\n"
     ]
    }
   ],
   "source": [
    "# e) Given a 1-D array [6, 5, 1, 2, 9, 10, 36, 7]. Shuffle the elements of the array randomly.\n",
    "array_f = np.array([6, 5, 1, 2, 9, 10, 36, 7])\n",
    "np.random.shuffle(array_f)\n",
    "print(\"Shuffled 1-D array: \", array_f)"
   ]
  },
  {
   "cell_type": "code",
   "execution_count": 23,
   "id": "6ab4f7f9",
   "metadata": {},
   "outputs": [
    {
     "name": "stdout",
     "output_type": "stream",
     "text": [
      "2-D array after shuffling: \n",
      " [[10  8  1]\n",
      " [ 5  3 11]\n",
      " [ 4 12  7]\n",
      " [ 9  6  2]]\n"
     ]
    }
   ],
   "source": [
    "# f) Shuffle the elements of the given 2-D array randomly.\n",
    "array_to_shuffle_2d=np.array([[1, 2, 3], [4, 5, 6], [7, 8, 9], [10, 11, 12]])\n",
    "shuffled_array_2d=array_to_shuffle_2d.flatten()\n",
    "np.random.shuffle(shuffled_array_2d)\n",
    "shuffled_array_2d=shuffled_array_2d.reshape(array_to_shuffle_2d.shape)\n",
    "print(\"2-D array after shuffling: \\n\", shuffled_array_2d)"
   ]
  },
  {
   "cell_type": "markdown",
   "id": "8804ec0a",
   "metadata": {},
   "source": [
    "# Part-B"
   ]
  },
  {
   "cell_type": "markdown",
   "id": "370f94d0",
   "metadata": {},
   "source": [
    "## Question-1"
   ]
  },
  {
   "cell_type": "code",
   "execution_count": 30,
   "id": "d56ec27e",
   "metadata": {},
   "outputs": [
    {
     "data": {
      "text/html": [
       "<div>\n",
       "<style scoped>\n",
       "    .dataframe tbody tr th:only-of-type {\n",
       "        vertical-align: middle;\n",
       "    }\n",
       "\n",
       "    .dataframe tbody tr th {\n",
       "        vertical-align: top;\n",
       "    }\n",
       "\n",
       "    .dataframe thead th {\n",
       "        text-align: right;\n",
       "    }\n",
       "</style>\n",
       "<table border=\"1\" class=\"dataframe\">\n",
       "  <thead>\n",
       "    <tr style=\"text-align: right;\">\n",
       "      <th></th>\n",
       "      <th>fixed acidity</th>\n",
       "      <th>volatile acidity</th>\n",
       "      <th>citric acid</th>\n",
       "      <th>residual sugar</th>\n",
       "      <th>chlorides</th>\n",
       "      <th>free sulfur dioxide</th>\n",
       "      <th>total sulfur dioxide</th>\n",
       "      <th>density</th>\n",
       "      <th>pH</th>\n",
       "      <th>sulphates</th>\n",
       "      <th>alcohol</th>\n",
       "      <th>quality</th>\n",
       "    </tr>\n",
       "  </thead>\n",
       "  <tbody>\n",
       "    <tr>\n",
       "      <th>0</th>\n",
       "      <td>7.4</td>\n",
       "      <td>0.70</td>\n",
       "      <td>0.00</td>\n",
       "      <td>1.9</td>\n",
       "      <td>0.076</td>\n",
       "      <td>11.0</td>\n",
       "      <td>34.0</td>\n",
       "      <td>0.9978</td>\n",
       "      <td>3.51</td>\n",
       "      <td>0.56</td>\n",
       "      <td>9.4</td>\n",
       "      <td>5</td>\n",
       "    </tr>\n",
       "    <tr>\n",
       "      <th>1</th>\n",
       "      <td>7.8</td>\n",
       "      <td>0.88</td>\n",
       "      <td>0.00</td>\n",
       "      <td>2.6</td>\n",
       "      <td>0.098</td>\n",
       "      <td>25.0</td>\n",
       "      <td>67.0</td>\n",
       "      <td>0.9968</td>\n",
       "      <td>3.20</td>\n",
       "      <td>0.68</td>\n",
       "      <td>9.8</td>\n",
       "      <td>5</td>\n",
       "    </tr>\n",
       "    <tr>\n",
       "      <th>2</th>\n",
       "      <td>7.8</td>\n",
       "      <td>0.76</td>\n",
       "      <td>0.04</td>\n",
       "      <td>2.3</td>\n",
       "      <td>0.092</td>\n",
       "      <td>15.0</td>\n",
       "      <td>54.0</td>\n",
       "      <td>0.9970</td>\n",
       "      <td>3.26</td>\n",
       "      <td>0.65</td>\n",
       "      <td>9.8</td>\n",
       "      <td>5</td>\n",
       "    </tr>\n",
       "    <tr>\n",
       "      <th>3</th>\n",
       "      <td>11.2</td>\n",
       "      <td>0.28</td>\n",
       "      <td>0.56</td>\n",
       "      <td>1.9</td>\n",
       "      <td>0.075</td>\n",
       "      <td>17.0</td>\n",
       "      <td>60.0</td>\n",
       "      <td>0.9980</td>\n",
       "      <td>3.16</td>\n",
       "      <td>0.58</td>\n",
       "      <td>9.8</td>\n",
       "      <td>6</td>\n",
       "    </tr>\n",
       "    <tr>\n",
       "      <th>4</th>\n",
       "      <td>7.4</td>\n",
       "      <td>0.70</td>\n",
       "      <td>0.00</td>\n",
       "      <td>1.9</td>\n",
       "      <td>0.076</td>\n",
       "      <td>11.0</td>\n",
       "      <td>34.0</td>\n",
       "      <td>0.9978</td>\n",
       "      <td>3.51</td>\n",
       "      <td>0.56</td>\n",
       "      <td>9.4</td>\n",
       "      <td>5</td>\n",
       "    </tr>\n",
       "  </tbody>\n",
       "</table>\n",
       "</div>"
      ],
      "text/plain": [
       "   fixed acidity  volatile acidity  citric acid  residual sugar  chlorides  \\\n",
       "0            7.4              0.70         0.00             1.9      0.076   \n",
       "1            7.8              0.88         0.00             2.6      0.098   \n",
       "2            7.8              0.76         0.04             2.3      0.092   \n",
       "3           11.2              0.28         0.56             1.9      0.075   \n",
       "4            7.4              0.70         0.00             1.9      0.076   \n",
       "\n",
       "   free sulfur dioxide  total sulfur dioxide  density    pH  sulphates  \\\n",
       "0                 11.0                  34.0   0.9978  3.51       0.56   \n",
       "1                 25.0                  67.0   0.9968  3.20       0.68   \n",
       "2                 15.0                  54.0   0.9970  3.26       0.65   \n",
       "3                 17.0                  60.0   0.9980  3.16       0.58   \n",
       "4                 11.0                  34.0   0.9978  3.51       0.56   \n",
       "\n",
       "   alcohol  quality  \n",
       "0      9.4        5  \n",
       "1      9.8        5  \n",
       "2      9.8        5  \n",
       "3      9.8        6  \n",
       "4      9.4        5  "
      ]
     },
     "execution_count": 30,
     "metadata": {},
     "output_type": "execute_result"
    }
   ],
   "source": [
    "import pandas as pd\n",
    "\n",
    "# Read the dataset\n",
    "wine_data=pd.read_csv('winequality_red.csv', sep=';')\n",
    "wine_data.head()"
   ]
  },
  {
   "cell_type": "markdown",
   "id": "23f0defd",
   "metadata": {},
   "source": [
    "## Question-2"
   ]
  },
  {
   "cell_type": "code",
   "execution_count": 36,
   "id": "8082abc6",
   "metadata": {},
   "outputs": [
    {
     "name": "stdout",
     "output_type": "stream",
     "text": [
      "<class 'numpy.ndarray'>\n"
     ]
    }
   ],
   "source": [
    "# Convert the DataFrame to a NumPy array\n",
    "wine_data_np=wine_data.to_numpy()\n",
    "print(type(wine_data_np))"
   ]
  },
  {
   "cell_type": "markdown",
   "id": "5f7e3e52",
   "metadata": {},
   "source": [
    "## Question-3"
   ]
  },
  {
   "cell_type": "code",
   "execution_count": 37,
   "id": "f7bff07e",
   "metadata": {},
   "outputs": [
    {
     "name": "stdout",
     "output_type": "stream",
     "text": [
      "Shape of wine_data_np:  (1599, 12)\n"
     ]
    }
   ],
   "source": [
    "# Check the shape of the NumPy array\n",
    "print(\"Shape of wine_data_np: \", wine_data_np.shape)"
   ]
  },
  {
   "cell_type": "markdown",
   "id": "8ba84dae",
   "metadata": {},
   "source": [
    "## Question-4"
   ]
  },
  {
   "cell_type": "code",
   "execution_count": 38,
   "id": "676be477",
   "metadata": {},
   "outputs": [
    {
     "name": "stdout",
     "output_type": "stream",
     "text": [
      "Shape of Y:  (1599,)\n"
     ]
    }
   ],
   "source": [
    "# Slice the last column for Y\n",
    "Y=wine_data_np[:, -1]\n",
    "print(\"Shape of Y: \", Y.shape)"
   ]
  },
  {
   "cell_type": "code",
   "execution_count": 39,
   "id": "c9268654",
   "metadata": {},
   "outputs": [
    {
     "name": "stdout",
     "output_type": "stream",
     "text": [
      "Shape of X: (1599, 11)\n"
     ]
    }
   ],
   "source": [
    "# Slice all columns except the last for X\n",
    "X=wine_data_np[:, :-1]\n",
    "print(\"Shape of X:\", X.shape)"
   ]
  },
  {
   "cell_type": "markdown",
   "id": "9c956498",
   "metadata": {},
   "source": [
    "## Question-5"
   ]
  },
  {
   "cell_type": "code",
   "execution_count": 40,
   "id": "a8030bb6",
   "metadata": {},
   "outputs": [
    {
     "name": "stdout",
     "output_type": "stream",
     "text": [
      "Mean for all columns in X:  [ 8.31963727  0.52782051  0.27097561  2.5388055   0.08746654 15.87492183\n",
      " 46.46779237  0.99674668  3.3111132   0.65814884 10.42298311]\n"
     ]
    }
   ],
   "source": [
    "# Compute the mean for all columns in X\n",
    "mean_X=np.mean(X, axis=0)\n",
    "print(\"Mean for all columns in X: \", mean_X)"
   ]
  },
  {
   "cell_type": "code",
   "execution_count": 41,
   "id": "a54ce0a3",
   "metadata": {},
   "outputs": [
    {
     "name": "stdout",
     "output_type": "stream",
     "text": [
      "Mode of Y:  5.0\n"
     ]
    },
    {
     "name": "stderr",
     "output_type": "stream",
     "text": [
      "/var/folders/cc/z6s568k952l7_rtyfdvzhchm0000gn/T/ipykernel_7839/2272687886.py:4: FutureWarning: Unlike other reduction functions (e.g. `skew`, `kurtosis`), the default behavior of `mode` typically preserves the axis it acts along. In SciPy 1.11.0, this behavior will change: the default value of `keepdims` will become False, the `axis` over which the statistic is taken will be eliminated, and the value None will no longer be accepted. Set `keepdims` to True or False to avoid this warning.\n",
      "  mode_Y=stats.mode(Y)\n"
     ]
    }
   ],
   "source": [
    "from scipy import stats\n",
    "\n",
    "# Compute the mode for the last column Y\n",
    "mode_Y=stats.mode(Y)\n",
    "print(\"Mode of Y: \", mode_Y.mode[0])"
   ]
  },
  {
   "cell_type": "code",
   "execution_count": 43,
   "id": "879f1ee1",
   "metadata": {},
   "outputs": [
    {
     "name": "stdout",
     "output_type": "stream",
     "text": [
      "Standard deviation for all columns in X:  [1.74055180e+00 1.79003704e-01 1.94740214e-01 1.40948711e+00\n",
      " 4.70505826e-02 1.04568856e+01 3.28850367e+01 1.88674370e-03\n",
      " 1.54338181e-01 1.69453967e-01 1.06533430e+00]\n"
     ]
    }
   ],
   "source": [
    "# Compute the standard deviation for all columns in X\n",
    "std_X=np.std(X, axis=0)\n",
    "print(\"Standard deviation for all columns in X: \", std_X)"
   ]
  }
 ],
 "metadata": {
  "kernelspec": {
   "display_name": "Python 3 (ipykernel)",
   "language": "python",
   "name": "python3"
  },
  "language_info": {
   "codemirror_mode": {
    "name": "ipython",
    "version": 3
   },
   "file_extension": ".py",
   "mimetype": "text/x-python",
   "name": "python",
   "nbconvert_exporter": "python",
   "pygments_lexer": "ipython3",
   "version": "3.12.4"
  }
 },
 "nbformat": 4,
 "nbformat_minor": 5
}
